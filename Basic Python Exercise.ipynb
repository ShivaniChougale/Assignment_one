{
 "cells": [
  {
   "cell_type": "markdown",
   "id": "0d04984f",
   "metadata": {},
   "source": [
    "# Basic Python Exercises_1"
   ]
  },
  {
   "cell_type": "markdown",
   "id": "0047570a",
   "metadata": {},
   "source": [
    "This is an optional exercise to test your understanding of Python Basics. \n",
    "In This excercise we are going to solve basics of python language related questions."
   ]
  },
  {
   "cell_type": "markdown",
   "id": "316fddaa",
   "metadata": {},
   "source": [
    "### Exercises\n",
    "Answer the questions or complete the tasks outlined in bold below, use the specific method described if applicable."
   ]
  },
  {
   "cell_type": "markdown",
   "id": "0d0d8456",
   "metadata": {},
   "source": [
    "##### What is 7 to the power of 4?"
   ]
  },
  {
   "cell_type": "code",
   "execution_count": 1,
   "id": "c9413eb3",
   "metadata": {},
   "outputs": [
    {
     "data": {
      "text/plain": [
       "2401"
      ]
     },
     "execution_count": 1,
     "metadata": {},
     "output_type": "execute_result"
    }
   ],
   "source": [
    "7**4"
   ]
  },
  {
   "cell_type": "markdown",
   "id": "a66c3189",
   "metadata": {},
   "source": [
    "#### Split this string:**\n",
    "\n",
    "#### s = \"Hi there Yogesh!\"\n",
    "\n",
    "#### into a list."
   ]
  },
  {
   "cell_type": "code",
   "execution_count": 2,
   "id": "03fa8ee7",
   "metadata": {},
   "outputs": [],
   "source": [
    "s='Hi there Yogesh!'"
   ]
  },
  {
   "cell_type": "code",
   "execution_count": 3,
   "id": "216d1cfe",
   "metadata": {},
   "outputs": [
    {
     "data": {
      "text/plain": [
       "['Hi', 'there', 'Yogesh!']"
      ]
     },
     "execution_count": 3,
     "metadata": {},
     "output_type": "execute_result"
    }
   ],
   "source": [
    "s.split()"
   ]
  },
  {
   "cell_type": "markdown",
   "id": "32fca0a8",
   "metadata": {},
   "source": [
    "#### Given the variables:\n",
    "#### planet = \"Earth\"\n",
    "\n",
    "#### diameter = 12742\n",
    "#### Use .format() to print the following string:\n",
    "#### The diameter of Earth is 12742 kilometers."
   ]
  },
  {
   "cell_type": "code",
   "execution_count": 4,
   "id": "51dca116",
   "metadata": {},
   "outputs": [],
   "source": [
    "planet='Earth'\n",
    "diameter=12742"
   ]
  },
  {
   "cell_type": "code",
   "execution_count": 6,
   "id": "668319fc",
   "metadata": {},
   "outputs": [
    {
     "data": {
      "text/plain": [
       "'The diameter of Earth is 12742 kilometers.'"
      ]
     },
     "execution_count": 6,
     "metadata": {},
     "output_type": "execute_result"
    }
   ],
   "source": [
    "\"The diameter of {} is {} kilometers.\".format(planet,diameter)"
   ]
  },
  {
   "cell_type": "markdown",
   "id": "898c403f",
   "metadata": {},
   "source": [
    "#### Given this nested list, use indexing to grab the word \"hello\" "
   ]
  },
  {
   "cell_type": "code",
   "execution_count": 7,
   "id": "c7f13eb3",
   "metadata": {},
   "outputs": [],
   "source": [
    "lst = [1,2,[3,4],[5,[100,200,['hello']],23,11],1,7]"
   ]
  },
  {
   "cell_type": "code",
   "execution_count": 8,
   "id": "3a945165",
   "metadata": {},
   "outputs": [
    {
     "data": {
      "text/plain": [
       "[1, 2, [3, 4], [5, [100, 200, ['hello']], 23, 11], 1, 7]"
      ]
     },
     "execution_count": 8,
     "metadata": {},
     "output_type": "execute_result"
    }
   ],
   "source": [
    "lst"
   ]
  },
  {
   "cell_type": "code",
   "execution_count": 10,
   "id": "b76d77c7",
   "metadata": {},
   "outputs": [
    {
     "data": {
      "text/plain": [
       "[5, [100, 200, ['hello']], 23, 11]"
      ]
     },
     "execution_count": 10,
     "metadata": {},
     "output_type": "execute_result"
    }
   ],
   "source": [
    "lst[3]"
   ]
  },
  {
   "cell_type": "code",
   "execution_count": 11,
   "id": "a42db3a7",
   "metadata": {},
   "outputs": [
    {
     "data": {
      "text/plain": [
       "[100, 200, ['hello']]"
      ]
     },
     "execution_count": 11,
     "metadata": {},
     "output_type": "execute_result"
    }
   ],
   "source": [
    "lst[3][1]"
   ]
  },
  {
   "cell_type": "code",
   "execution_count": 12,
   "id": "baafe343",
   "metadata": {},
   "outputs": [
    {
     "data": {
      "text/plain": [
       "['hello']"
      ]
     },
     "execution_count": 12,
     "metadata": {},
     "output_type": "execute_result"
    }
   ],
   "source": [
    "lst[3][1][2]"
   ]
  },
  {
   "cell_type": "code",
   "execution_count": 13,
   "id": "50cc5c22",
   "metadata": {},
   "outputs": [
    {
     "data": {
      "text/plain": [
       "'hello'"
      ]
     },
     "execution_count": 13,
     "metadata": {},
     "output_type": "execute_result"
    }
   ],
   "source": [
    "lst[3][1][2][0]"
   ]
  },
  {
   "cell_type": "markdown",
   "id": "3bff61ec",
   "metadata": {},
   "source": [
    "#### Given this nested dictionary grab the word \"hello\". Be prepared, this will be annoying/tricky"
   ]
  },
  {
   "cell_type": "code",
   "execution_count": 16,
   "id": "d90af5ee",
   "metadata": {},
   "outputs": [],
   "source": [
    "d = {'k1':[1,2,3,{'tricky':['oh','man','inception',{'target':[1,2,3,'hello']}]}]}"
   ]
  },
  {
   "cell_type": "code",
   "execution_count": 17,
   "id": "2f5336b0",
   "metadata": {},
   "outputs": [
    {
     "data": {
      "text/plain": [
       "[1,\n",
       " 2,\n",
       " 3,\n",
       " {'tricky': ['oh', 'man', 'inception', {'target': [1, 2, 3, 'hello']}]}]"
      ]
     },
     "execution_count": 17,
     "metadata": {},
     "output_type": "execute_result"
    }
   ],
   "source": [
    "d['k1']"
   ]
  },
  {
   "cell_type": "code",
   "execution_count": 19,
   "id": "3bb64c08",
   "metadata": {},
   "outputs": [
    {
     "data": {
      "text/plain": [
       "{'tricky': ['oh', 'man', 'inception', {'target': [1, 2, 3, 'hello']}]}"
      ]
     },
     "execution_count": 19,
     "metadata": {},
     "output_type": "execute_result"
    }
   ],
   "source": [
    "d['k1'][3]"
   ]
  },
  {
   "cell_type": "code",
   "execution_count": 20,
   "id": "9f93623d",
   "metadata": {},
   "outputs": [
    {
     "data": {
      "text/plain": [
       "['oh', 'man', 'inception', {'target': [1, 2, 3, 'hello']}]"
      ]
     },
     "execution_count": 20,
     "metadata": {},
     "output_type": "execute_result"
    }
   ],
   "source": [
    "d['k1'][3]['tricky']"
   ]
  },
  {
   "cell_type": "code",
   "execution_count": 21,
   "id": "0e876f97",
   "metadata": {},
   "outputs": [
    {
     "data": {
      "text/plain": [
       "{'target': [1, 2, 3, 'hello']}"
      ]
     },
     "execution_count": 21,
     "metadata": {},
     "output_type": "execute_result"
    }
   ],
   "source": [
    "d['k1'][3]['tricky'][3]"
   ]
  },
  {
   "cell_type": "code",
   "execution_count": 22,
   "id": "2fe703ac",
   "metadata": {},
   "outputs": [
    {
     "data": {
      "text/plain": [
       "[1, 2, 3, 'hello']"
      ]
     },
     "execution_count": 22,
     "metadata": {},
     "output_type": "execute_result"
    }
   ],
   "source": [
    "d['k1'][3]['tricky'][3]['target']"
   ]
  },
  {
   "cell_type": "code",
   "execution_count": 23,
   "id": "d5f91048",
   "metadata": {},
   "outputs": [
    {
     "data": {
      "text/plain": [
       "'hello'"
      ]
     },
     "execution_count": 23,
     "metadata": {},
     "output_type": "execute_result"
    }
   ],
   "source": [
    "d['k1'][3]['tricky'][3]['target'][3]"
   ]
  },
  {
   "cell_type": "markdown",
   "id": "070c2bf1",
   "metadata": {},
   "source": [
    "####  What is the main difference between a tuple and a list? "
   ]
  },
  {
   "cell_type": "markdown",
   "id": "859ce434",
   "metadata": {},
   "source": [
    " Tuples are immutable.\n",
    " while lists are mutable in nature."
   ]
  },
  {
   "cell_type": "markdown",
   "id": "b210d8b6",
   "metadata": {},
   "source": [
    "#### Create a function that grabs the email website domain from a string in the form: \n",
    "#### user@domain.com\n",
    "#### So for example, passing \"user@domain.com\" would return: domain.com"
   ]
  },
  {
   "cell_type": "code",
   "execution_count": 24,
   "id": "52c38067",
   "metadata": {},
   "outputs": [],
   "source": [
    "d='xyz@gmail.com'"
   ]
  },
  {
   "cell_type": "code",
   "execution_count": 25,
   "id": "26f29dbd",
   "metadata": {},
   "outputs": [
    {
     "data": {
      "text/plain": [
       "['xyz', 'gmail.com']"
      ]
     },
     "execution_count": 25,
     "metadata": {},
     "output_type": "execute_result"
    }
   ],
   "source": [
    "d.split('@')"
   ]
  },
  {
   "cell_type": "code",
   "execution_count": 26,
   "id": "b45795bb",
   "metadata": {},
   "outputs": [
    {
     "data": {
      "text/plain": [
       "'gmail.com'"
      ]
     },
     "execution_count": 26,
     "metadata": {},
     "output_type": "execute_result"
    }
   ],
   "source": [
    "d.split('@')[1]"
   ]
  },
  {
   "cell_type": "code",
   "execution_count": 27,
   "id": "7adbab4e",
   "metadata": {},
   "outputs": [],
   "source": [
    "def fun(x):\n",
    "    return x.split('@')[1]"
   ]
  },
  {
   "cell_type": "code",
   "execution_count": 28,
   "id": "8b8711ef",
   "metadata": {},
   "outputs": [
    {
     "data": {
      "text/plain": [
       "'gmail.com'"
      ]
     },
     "execution_count": 28,
     "metadata": {},
     "output_type": "execute_result"
    }
   ],
   "source": [
    "fun('shiv97@gmail.com')"
   ]
  },
  {
   "cell_type": "markdown",
   "id": "2c141b2d",
   "metadata": {},
   "source": [
    "#### Create a basic function that returns True if the word 'dog' is contained in the input string. Don't worry about edge cases like a punctuation being attached to the word dog, but do account for capitalization. "
   ]
  },
  {
   "cell_type": "code",
   "execution_count": 29,
   "id": "1c02bcac",
   "metadata": {},
   "outputs": [
    {
     "data": {
      "text/plain": [
       "['This', 'is', 'a', 'dog']"
      ]
     },
     "execution_count": 29,
     "metadata": {},
     "output_type": "execute_result"
    }
   ],
   "source": [
    "'This is a dog'.split()"
   ]
  },
  {
   "cell_type": "code",
   "execution_count": 31,
   "id": "c09aa56c",
   "metadata": {},
   "outputs": [
    {
     "data": {
      "text/plain": [
       "True"
      ]
     },
     "execution_count": 31,
     "metadata": {},
     "output_type": "execute_result"
    }
   ],
   "source": [
    "'dog' in 'This is a dog'.split()"
   ]
  },
  {
   "cell_type": "code",
   "execution_count": 34,
   "id": "d1c4ec4b",
   "metadata": {},
   "outputs": [
    {
     "data": {
      "text/plain": [
       "True"
      ]
     },
     "execution_count": 34,
     "metadata": {},
     "output_type": "execute_result"
    }
   ],
   "source": [
    "'dog' in 'This is a Dog'.lower().split()"
   ]
  },
  {
   "cell_type": "code",
   "execution_count": 35,
   "id": "e3d1dac8",
   "metadata": {},
   "outputs": [],
   "source": [
    "def find_fun(str):\n",
    "    return 'dog' in str.lower().split()"
   ]
  },
  {
   "cell_type": "code",
   "execution_count": 36,
   "id": "c36debef",
   "metadata": {},
   "outputs": [
    {
     "data": {
      "text/plain": [
       "True"
      ]
     },
     "execution_count": 36,
     "metadata": {},
     "output_type": "execute_result"
    }
   ],
   "source": [
    "find_fun('this is a DOG')"
   ]
  },
  {
   "cell_type": "code",
   "execution_count": 37,
   "id": "aece2249",
   "metadata": {},
   "outputs": [
    {
     "data": {
      "text/plain": [
       "True"
      ]
     },
     "execution_count": 37,
     "metadata": {},
     "output_type": "execute_result"
    }
   ],
   "source": [
    "find_fun('This is a Dog')"
   ]
  },
  {
   "cell_type": "markdown",
   "id": "729887b3",
   "metadata": {},
   "source": [
    "####  Create a function that counts the number of times the word \"dog\" occurs in a string. Again ignore edge cases."
   ]
  },
  {
   "cell_type": "code",
   "execution_count": 38,
   "id": "20e67236",
   "metadata": {},
   "outputs": [],
   "source": [
    "def count_dog(str):\n",
    "    count=0\n",
    "    for x in str.lower().split():\n",
    "        if x=='dog':\n",
    "            count+=1\n",
    "    return count"
   ]
  },
  {
   "cell_type": "code",
   "execution_count": 40,
   "id": "b3da1315",
   "metadata": {},
   "outputs": [
    {
     "data": {
      "text/plain": [
       "2"
      ]
     },
     "execution_count": 40,
     "metadata": {},
     "output_type": "execute_result"
    }
   ],
   "source": [
    "count_dog('This dog run faster than other DOG')"
   ]
  },
  {
   "cell_type": "markdown",
   "id": "c502aebe",
   "metadata": {},
   "source": [
    "####  Use lambda expressions and the filter() function to filter out words from a list that don't start with the letter 's'. For example:"
   ]
  },
  {
   "cell_type": "code",
   "execution_count": 41,
   "id": "c27ca3e4",
   "metadata": {},
   "outputs": [],
   "source": [
    "seq = ['soup','dog','salad','cat','great']"
   ]
  },
  {
   "cell_type": "markdown",
   "id": "97a6bef2",
   "metadata": {},
   "source": [
    "#### should be filtered down to:\n",
    "\n",
    "#### ['soup','salad']"
   ]
  },
  {
   "cell_type": "code",
   "execution_count": 42,
   "id": "7fcb3359",
   "metadata": {},
   "outputs": [
    {
     "data": {
      "text/plain": [
       "['soup', 'dog', 'salad', 'cat', 'great']"
      ]
     },
     "execution_count": 42,
     "metadata": {},
     "output_type": "execute_result"
    }
   ],
   "source": [
    "seq"
   ]
  },
  {
   "cell_type": "code",
   "execution_count": 44,
   "id": "992e6bf4",
   "metadata": {},
   "outputs": [
    {
     "data": {
      "text/plain": [
       "<function __main__.<lambda>(x)>"
      ]
     },
     "execution_count": 44,
     "metadata": {},
     "output_type": "execute_result"
    }
   ],
   "source": [
    "lambda x:x[0]!='s'"
   ]
  },
  {
   "cell_type": "code",
   "execution_count": 45,
   "id": "b8105500",
   "metadata": {},
   "outputs": [
    {
     "data": {
      "text/plain": [
       "['dog', 'cat', 'great']"
      ]
     },
     "execution_count": 45,
     "metadata": {},
     "output_type": "execute_result"
    }
   ],
   "source": [
    "list(filter(lambda x:x[0]!='s',seq))"
   ]
  },
  {
   "cell_type": "code",
   "execution_count": 47,
   "id": "e602b995",
   "metadata": {},
   "outputs": [
    {
     "data": {
      "text/plain": [
       "['soup', 'salad']"
      ]
     },
     "execution_count": 47,
     "metadata": {},
     "output_type": "execute_result"
    }
   ],
   "source": [
    "list(filter(lambda x:x[0]=='s',seq))"
   ]
  },
  {
   "cell_type": "markdown",
   "id": "fbd15013",
   "metadata": {},
   "source": [
    "#### You are driving a little too fast, and a police officer stops you. Write a function to return one of 3 possible results: \"No ticket\", \"Small ticket\", or \"Big Ticket\". If your speed is 60 or less, the result is \"No Ticket\". If speed is between 61 and 80 inclusive, the result is \"Small Ticket\". If speed is 81 or more, the result is \"Big Ticket\". Unless it is your birthday (encoded as a boolean value in the parameters of the function) -- on your birthday, your speed can be 5 higher in all cases. "
   ]
  },
  {
   "cell_type": "code",
   "execution_count": 48,
   "id": "3ec914bf",
   "metadata": {},
   "outputs": [],
   "source": [
    "def caught_speeding(speed,is_birthday):\n",
    "    if is_birthday:\n",
    "        speed-=5 # adjust speed limit by 5 mph if it's your birthday\n",
    "    if speed <= 60:\n",
    "        return 'No Ticket'\n",
    "    elif 61 <= speed <= 80:\n",
    "        return 'Small Ticket'\n",
    "    else:\n",
    "        return 'Big Ticket'"
   ]
  },
  {
   "cell_type": "code",
   "execution_count": 49,
   "id": "156a42d5",
   "metadata": {},
   "outputs": [
    {
     "data": {
      "text/plain": [
       "'No Ticket'"
      ]
     },
     "execution_count": 49,
     "metadata": {},
     "output_type": "execute_result"
    }
   ],
   "source": [
    "caught_speeding(60,True)"
   ]
  },
  {
   "cell_type": "code",
   "execution_count": 50,
   "id": "e060abfb",
   "metadata": {},
   "outputs": [
    {
     "data": {
      "text/plain": [
       "'Small Ticket'"
      ]
     },
     "execution_count": 50,
     "metadata": {},
     "output_type": "execute_result"
    }
   ],
   "source": [
    "caught_speeding(80,False)"
   ]
  },
  {
   "cell_type": "code",
   "execution_count": 54,
   "id": "190910b4",
   "metadata": {},
   "outputs": [
    {
     "data": {
      "text/plain": [
       "'Big Ticket'"
      ]
     },
     "execution_count": 54,
     "metadata": {},
     "output_type": "execute_result"
    }
   ],
   "source": [
    "caught_speeding(85,False)"
   ]
  },
  {
   "cell_type": "code",
   "execution_count": 58,
   "id": "ab1f4f85",
   "metadata": {},
   "outputs": [
    {
     "data": {
      "text/plain": [
       "'Big Ticket'"
      ]
     },
     "execution_count": 58,
     "metadata": {},
     "output_type": "execute_result"
    }
   ],
   "source": [
    "caught_speeding(87,True)"
   ]
  },
  {
   "cell_type": "markdown",
   "id": "8caa3c17",
   "metadata": {},
   "source": [
    "Question\n",
    "Given a string print number num by extracting all the\n",
    "digits from the string as in string\n",
    "Print negative number if the first character in \n",
    "string is '-'\n",
    "eg.\n",
    "-123abcd should return -123,abcd456-->456,fdhfh78dsd89--->7889,-56dssd78-->-5678"
   ]
  },
  {
   "cell_type": "code",
   "execution_count": 1,
   "id": "9df0f291",
   "metadata": {},
   "outputs": [
    {
     "name": "stdout",
     "output_type": "stream",
     "text": [
      "Enter the number:34\n"
     ]
    }
   ],
   "source": [
    "a=input('Enter the number:')"
   ]
  },
  {
   "cell_type": "code",
   "execution_count": 2,
   "id": "11a72fda",
   "metadata": {},
   "outputs": [
    {
     "data": {
      "text/plain": [
       "'34'"
      ]
     },
     "execution_count": 2,
     "metadata": {},
     "output_type": "execute_result"
    }
   ],
   "source": [
    "a"
   ]
  },
  {
   "cell_type": "code",
   "execution_count": 3,
   "id": "413d8692",
   "metadata": {},
   "outputs": [
    {
     "data": {
      "text/plain": [
       "str"
      ]
     },
     "execution_count": 3,
     "metadata": {},
     "output_type": "execute_result"
    }
   ],
   "source": [
    "type(a)"
   ]
  },
  {
   "cell_type": "code",
   "execution_count": 6,
   "id": "51a1562e",
   "metadata": {},
   "outputs": [
    {
     "name": "stdout",
     "output_type": "stream",
     "text": [
      "Enter the input: -4fjhr90\n",
      "-490\n"
     ]
    }
   ],
   "source": [
    "s=input('Enter the input: ')\n",
    "num=\"\"\n",
    "data=[0,1,2,3,4,5,6,7,8,9]\n",
    "if s[0]=='-':\n",
    "    num=num+s[0]\n",
    "for c in s:\n",
    "    if c in str(data):\n",
    "        num=num+c\n",
    "print(num)"
   ]
  },
  {
   "cell_type": "markdown",
   "id": "25572737",
   "metadata": {},
   "source": [
    "WAP to check whether a number is palindrome or not on following conditions.\n",
    "1. take input number\n",
    "2. add number and its reverse\n",
    "3. check that number is palindrome or not,if not then sum and its reverse"
   ]
  },
  {
   "cell_type": "code",
   "execution_count": 18,
   "id": "96927b14",
   "metadata": {},
   "outputs": [
    {
     "name": "stdout",
     "output_type": "stream",
     "text": [
      "Enter the Number:88\n",
      "Number is: 847\n",
      "Reverse is: 748\n",
      "Number is: 1595\n",
      "Reverse is: 5951\n",
      "Number is: 7546\n",
      "Reverse is: 6457\n",
      "Number is: 14003\n",
      "Reverse is: 30041\n",
      "Number is: 44044\n",
      "Reverse is: 44044\n",
      "Palindrom is  44044\n"
     ]
    }
   ],
   "source": [
    "n1=input('Enter the Number:')\n",
    "n2=int(n1[::-1])\n",
    "n3=str(int(n1)+n2)\n",
    "while n3!=n3[::-1]:\n",
    "    n3=str(int(n3)+int(n3[::-1]))\n",
    "    print('Number is:',n3)\n",
    "    print('Reverse is:',n3[::-1])\n",
    "print('Palindrom is ',n3)"
   ]
  },
  {
   "cell_type": "markdown",
   "id": "ad1bfe57",
   "metadata": {},
   "source": [
    "Write a python function to find and display the five \n",
    "digit number in which the first digit is two more than \n",
    "the second,the second digit is two more than the third,\n",
    "the fourth digit is two less than the third, and the \n",
    "last digit is two more than\n",
    "the fourth.The sum of the third,fourth and fifth digits\n",
    "equals the first.The sum of all the digits is 19"
   ]
  },
  {
   "cell_type": "code",
   "execution_count": 23,
   "id": "08a763d5",
   "metadata": {},
   "outputs": [],
   "source": [
    "def fun1():\n",
    "    for a in range(0,10):\n",
    "        b=a-2\n",
    "        c=b-2\n",
    "        d=c-2\n",
    "        if c+d+c==a and a+b+c+d+c==19:\n",
    "            print(str(a)+str(b)+str(c)+str(d)+str(c))"
   ]
  },
  {
   "cell_type": "code",
   "execution_count": 24,
   "id": "5a6cd038",
   "metadata": {},
   "outputs": [
    {
     "name": "stdout",
     "output_type": "stream",
     "text": [
      "75313\n"
     ]
    }
   ],
   "source": [
    "fun1()"
   ]
  },
  {
   "cell_type": "code",
   "execution_count": null,
   "id": "75973f88",
   "metadata": {},
   "outputs": [],
   "source": []
  }
 ],
 "metadata": {
  "kernelspec": {
   "display_name": "Python 3 (ipykernel)",
   "language": "python",
   "name": "python3"
  },
  "language_info": {
   "codemirror_mode": {
    "name": "ipython",
    "version": 3
   },
   "file_extension": ".py",
   "mimetype": "text/x-python",
   "name": "python",
   "nbconvert_exporter": "python",
   "pygments_lexer": "ipython3",
   "version": "3.10.9"
  }
 },
 "nbformat": 4,
 "nbformat_minor": 5
}
